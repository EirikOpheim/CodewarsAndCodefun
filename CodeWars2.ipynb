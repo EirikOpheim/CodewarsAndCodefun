{
 "cells": [
  {
   "cell_type": "code",
   "execution_count": 10,
   "metadata": {},
   "outputs": [
    {
     "name": "stdout",
     "output_type": "stream",
     "text": [
      "b\n",
      "bab\n",
      "bab\n",
      "bab\n",
      "bab\n"
     ]
    },
    {
     "data": {
      "text/plain": [
       "'bab'"
      ]
     },
     "execution_count": 10,
     "metadata": {},
     "output_type": "execute_result"
    }
   ],
   "source": [
    "longest_palindrome('babad')"
   ]
  },
  {
   "cell_type": "code",
   "execution_count": 9,
   "metadata": {},
   "outputs": [],
   "source": [
    "def longest_palindrome(s):\n",
    "    longest_len = 0\n",
    "    index = 0\n",
    "    longest_pal = \"\"\n",
    "    while index < len(s):\n",
    "        curr_pal = s[index]\n",
    "        curr_index = 1\n",
    "        while (len(s)-curr_index)>index>=(curr_index) and s[index-curr_index]==s[index+curr_index]:\n",
    "            curr_pal = s[index-curr_index] + curr_pal + s[index+curr_index]\n",
    "            curr_index += 1\n",
    "        if len(curr_pal) > longest_len:\n",
    "            longest_len = len(curr_pal)\n",
    "            longest_pal = curr_pal\n",
    "        \n",
    "        \n",
    "        index += 1\n",
    "    \n",
    "    return longest_pal\n",
    "    "
   ]
  },
  {
   "cell_type": "code",
   "execution_count": 27,
   "metadata": {},
   "outputs": [],
   "source": [
    "def zeroes (base, number):\n",
    "    base_dict = {}\n",
    "    while base>1:\n",
    "        factor = GetFactor(base)\n",
    "        base = int(base/factor)\n",
    "        try:\n",
    "            base_dict[str(factor)] += 1\n",
    "        except:\n",
    "            base_dict[str(factor)] = 1\n",
    "    \n",
    "    limitation_list = []\n",
    "    my_numbers = list(map(int,base_dict.keys()))\n",
    "    \n",
    "    for i in my_numbers:\n",
    "        temp_number = number\n",
    "        number_count = 0\n",
    "        while temp_number > 1:\n",
    "            temp_number = int(temp_number/i)\n",
    "            number_count += temp_number\n",
    "        limitation_list.append(int(number_count/base_dict[str(i)]))\n",
    "    \n",
    "    return min(limitation_list)"
   ]
  },
  {
   "cell_type": "code",
   "execution_count": 5,
   "metadata": {},
   "outputs": [],
   "source": [
    "def dbl_linear(n):\n",
    "    my_list = [1]\n",
    "    double_index = 0\n",
    "    triple_index = 0\n",
    "    double_candidate = 2*my_list[double_index]+1\n",
    "    triple_candidate = 3*my_list[triple_index]+1\n",
    "    for i in range(n):\n",
    "        if double_candidate == triple_candidate:\n",
    "            my_list.append(double_candidate)\n",
    "            double_index += 1\n",
    "            triple_index += 1\n",
    "            double_candidate = 2*my_list[double_index]+1\n",
    "            triple_candidate = 3*my_list[triple_index]+1\n",
    "        elif double_candidate < triple_candidate:\n",
    "            my_list.append(double_candidate)\n",
    "            double_index += 1\n",
    "            double_candidate = 2*my_list[double_index]+1\n",
    "        else:\n",
    "            my_list.append(triple_candidate)\n",
    "            triple_index += 1\n",
    "            triple_candidate = 3*my_list[triple_index]+1   \n",
    "    return my_list[-1]"
   ]
  },
  {
   "cell_type": "code",
   "execution_count": 156,
   "metadata": {},
   "outputs": [],
   "source": [
    "def isCandidate(puzzle,i,j,n):\n",
    "    for k in range (9):\n",
    "        if puzzle[k][j] == n or puzzle[i][k] == n:\n",
    "            return False\n",
    "    \n",
    "    low_i = (i//3)*3\n",
    "    low_j = (j//3)*3\n",
    "    \n",
    "    if ([puzzle[l][m] for l in range(low_i,low_i+3) for m in range(low_j,low_j+3)].count(n) > 0):\n",
    "        return False\n",
    "    \n",
    "    return True\n",
    "\n",
    "def sudoku(puzzle):\n",
    "    for i in range(9):\n",
    "        for j in range (9):\n",
    "            if puzzle[i][j]==0:\n",
    "                for n in range (1,10):\n",
    "                    if isCandidate(puzzle,i,j,n):\n",
    "                        puzzle[i][j] = n\n",
    "                        candidate = sudoku(puzzle)\n",
    "\n",
    "                        \n",
    "                        if candidate and candidate != -1:\n",
    "                            return candidate\n",
    "                        \n",
    "                        puzzle[i][j] = 0\n",
    "                        \n",
    "                return \n",
    "    return puzzle\n",
    "                "
   ]
  },
  {
   "cell_type": "code",
   "execution_count": 40,
   "metadata": {},
   "outputs": [
    {
     "name": "stdout",
     "output_type": "stream",
     "text": [
      "640\n",
      "40\n",
      "-2\n"
     ]
    }
   ],
   "source": [
    "def done_or_not(board): #board[i][j]\n",
    "    MyBool = True\n",
    "    Numbers = [1,2,3,4,5,6,7,8,9]\n",
    "    Regions = [[0,3],[3,6],[6,9]]\n",
    "    for i in Regions:\n",
    "        for j in Regions:\n",
    "            for k in Numbers:\n",
    "                MyBool *= ([board[i][l] for i in range(i[0],i[1]) for l in range(j[0],j[1])].count(k) == 1)\n",
    "    for i in range(9):\n",
    "        print(board[:][i])\n",
    "        for j in Numbers:\n",
    "            MyBool *= (board[i][:].count(j) ==1)\n",
    "            MyBool *= (board[:][i].count(j) ==1)\n",
    "  \n",
    "    return True if MyBool else False"
   ]
  },
  {
   "cell_type": "code",
   "execution_count": 41,
   "metadata": {},
   "outputs": [],
   "source": [
    "class User:\n",
    "    \n",
    "    def __init__(self):\n",
    "        self.rank = -8\n",
    "        self.progress = 0\n",
    "        print(self.rank)\n",
    "        print(self.progress)\n",
    "        \n",
    "    def inc_progress(self,task_rank):\n",
    "        if task_rank not in [-8,-7,-6,-5,-4,-3,-2,-1,1,2,3,4,5,6,7,8]:\n",
    "            raise ValueError()\n",
    "        print(task_rank)\n",
    "        diff = task_rank-self.rank\n",
    "        \n",
    "        if task_rank > 0 and self.rank <0:\n",
    "            diff -= 1\n",
    "            \n",
    "        elif task_rank <0 and self.rank>0:\n",
    "            diff += 1\n",
    "            \n",
    "        if diff <= -2:\n",
    "            None\n",
    "        if diff == -1:\n",
    "            self.progress += 1\n",
    "        if diff == 0:\n",
    "            self.progress += 3\n",
    "        if diff > 0:\n",
    "            self.progress += 10*diff**2\n",
    "           \n",
    "        #compute new rank:\n",
    "        rank_increase = int(self.progress/100)\n",
    "        if rank_increase:\n",
    "            if self.rank < 0 and self.rank+rank_increase >= 0:\n",
    "                self.rank += rank_increase + 1\n",
    "            else:\n",
    "                self.rank += rank_increase\n",
    "                \n",
    "        #update_progress        \n",
    "        self.progress = self.progress%100 \n",
    "        \n",
    "        #Check maxrank\n",
    "        if self.rank >=8:\n",
    "            self.rank = 8\n",
    "            self.progress = 0\n",
    "        \n",
    "        "
   ]
  },
  {
   "cell_type": "code",
   "execution_count": 12,
   "metadata": {},
   "outputs": [],
   "source": [
    "def rectangle_rotation(a, b):\n",
    "    nb_rows = int(a/2*pow(2,1/2))\n",
    "    nb_cols = int(b/2*pow(2,1/2))\n",
    "    central_long = nb_cols%2 == 0\n",
    "    central_most = nb_rows%2 == 0\n",
    "    dots_per_col = int((2*nb_cols+1)/2)\n",
    "    tot_rows = 2*nb_rows+1\n",
    "    if central_long and central_most or not central_long and not central_most:\n",
    "        dots = dots_per_col*tot_rows + int(tot_rows/2)+1\n",
    "    else:\n",
    "        dots = dots_per_col*tot_rows + int(tot_rows/2)\n",
    "    \n",
    "    return dots"
   ]
  },
  {
   "cell_type": "code",
   "execution_count": 59,
   "metadata": {},
   "outputs": [],
   "source": [
    "from numpy import gcd\n",
    "\n",
    "def sum_fracts(lst):\n",
    "    if len(lst)==0:\n",
    "        return None\n",
    "    #Calculate fraction\n",
    "    denom = 1\n",
    "    num = 0\n",
    "    for i in range(len(lst)):\n",
    "        denom *= lst[i][1]\n",
    "        dnm = 1\n",
    "        for j in range(len(lst)):\n",
    "            if j!= i:\n",
    "                dnm *= lst[j][1]\n",
    "        num += lst[i][0]*dnm\n",
    "    \n",
    "    #Reduce fraction\n",
    "    great_comm_div = gcd(int(denom),int(num))\n",
    "    denom = round(denom/great_comm_div)\n",
    "    num = round(num/great_comm_div)\n",
    "\n",
    "    return [num,denom] if denom!= 1 else num"
   ]
  },
  {
   "cell_type": "code",
   "execution_count": 14,
   "metadata": {},
   "outputs": [],
   "source": [
    "def GetFactor(number):\n",
    "\n",
    "    if (number == 2 or number == 3):\n",
    "        return number\n",
    "\n",
    "    if (number % 2 == 0):\n",
    "        return 2\n",
    "    if (number % 3 == 0):\n",
    "        return 3\n",
    "\n",
    "    divisor = 6\n",
    "    while (divisor * divisor - 2 * divisor + 1 <= number):\n",
    "        if (number % (divisor - 1) == 0):\n",
    "            return divisor-1\n",
    "        if (number % (divisor + 1) == 0):\n",
    "            return divisor +1\n",
    "        divisor += 6\n",
    "    return number"
   ]
  },
  {
   "cell_type": "code",
   "execution_count": 20,
   "metadata": {},
   "outputs": [],
   "source": [
    "def encrypt(text, n):\n",
    "    for i in range(n):\n",
    "        text = text[1::2]+text[0::2]\n",
    "    return text\n",
    "\n",
    "def decrypt(text,n):\n",
    "    half_length = int(len(text)/2)\n",
    "    for i in range(n):\n",
    "        string = \"\"\n",
    "        list1 = text[:half_length]\n",
    "        list2 = text[half_length:]\n",
    "        for j in range(half_length):\n",
    "            string += list2[j]\n",
    "            string += list1[j]\n",
    "        if len(text)%2 == 1:\n",
    "            string += list2[-1]\n",
    "        text = string\n",
    "    return text\n",
    "        \n",
    "        "
   ]
  },
  {
   "cell_type": "code",
   "execution_count": 149,
   "metadata": {},
   "outputs": [],
   "source": [
    "def palindrome(n,c):return(c+c[-1-n%2::-1]).center(n,c[0])"
   ]
  }
 ],
 "metadata": {
  "kernelspec": {
   "display_name": "Python 3",
   "language": "python",
   "name": "python3"
  },
  "language_info": {
   "codemirror_mode": {
    "name": "ipython",
    "version": 3
   },
   "file_extension": ".py",
   "mimetype": "text/x-python",
   "name": "python",
   "nbconvert_exporter": "python",
   "pygments_lexer": "ipython3",
   "version": "3.7.4"
  }
 },
 "nbformat": 4,
 "nbformat_minor": 2
}
