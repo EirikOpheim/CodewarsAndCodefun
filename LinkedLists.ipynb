{
 "cells": [
  {
   "cell_type": "code",
   "execution_count": 1,
   "metadata": {},
   "outputs": [],
   "source": [
    "class Node:\n",
    "    \n",
    "    def __init__(self,value = None):\n",
    "        self.value = value\n",
    "        self.next = None\n",
    "        "
   ]
  },
  {
   "cell_type": "code",
   "execution_count": 2,
   "metadata": {},
   "outputs": [],
   "source": [
    "class NodeList:\n",
    "    \n",
    "    def __init__(self):\n",
    "        self.headval = None\n",
    "        \n",
    "        \n",
    "    def __str__(self):\n",
    "        next_node = self.headval\n",
    "        out_string = \"\"\n",
    "        \n",
    "        while(next_node is not None):\n",
    "            out_string += next_node.value + \"\\n\"\n",
    "            next_node = next_node.next\n",
    "            \n",
    "        return out_string\n",
    "        \n",
    "        \n",
    "    def add_front(self, value):\n",
    "        new_node = Node(value)\n",
    "        new_node.next = self.headval\n",
    "        self.headval = new_node\n",
    "        \n",
    "        \n",
    "    def add_back(self, value):\n",
    "        new_node = Node(value)\n",
    "        next_node = self.headval\n",
    "        \n",
    "        while(next_node is not None):\n",
    "            next_node = next_node.next\n",
    "            \n",
    "        next_node.next = new_node\n",
    "        \n",
    "        \n",
    "    def length(self):\n",
    "        next_node = self.headval\n",
    "        count = 0\n",
    "        \n",
    "        while(next_node is not None):\n",
    "            next_node = next_node.next\n",
    "            count += 1\n",
    "        \n",
    "        return count\n",
    "    \n",
    "    \n",
    "    def reverse_half(self):\n",
    "        length = self.length()\n",
    "        half_length = int(length/2)\n",
    "        \n",
    "        new_node_list = NodeList()\n",
    "        next_node = self.headval\n",
    "        \n",
    "        for _ in range (half_length):\n",
    "            new_node_list.add_front(next_node.value)\n",
    "            next_node = next_node.next\n",
    "            \n",
    "        return new_node_list\n",
    "    \n",
    "    \n",
    "    def is_palindrome(self):\n",
    "        length = self.length()\n",
    "        half_length = int(length/2)\n",
    "        half_reversed = self.reverse_half()\n",
    "        \n",
    "        if length%2 == 1:\n",
    "            half_length += 1\n",
    "        \n",
    "        next_node = self.headval\n",
    "        \n",
    "        for _ in range (half_length):\n",
    "            next_node = next_node.next\n",
    "            \n",
    "        half_head = half_reversed.headval \n",
    "        \n",
    "        while next_node is not None:\n",
    "            if next_node.value != half_head.value:\n",
    "                return False\n",
    "            \n",
    "            next_node = next_node.next\n",
    "            half_head = half_head.next\n",
    "            \n",
    "        return True\n",
    "            "
   ]
  },
  {
   "cell_type": "code",
   "execution_count": 3,
   "metadata": {},
   "outputs": [],
   "source": [
    "my_list =  NodeList()"
   ]
  },
  {
   "cell_type": "code",
   "execution_count": 4,
   "metadata": {},
   "outputs": [],
   "source": [
    "my_list.add_front(\"Hello\")\n",
    "my_list.add_front(\"Everyone\")\n",
    "my_list.add_front(\"I\")\n",
    "my_list.add_front(\"Everyone\")\n",
    "my_list.add_front(\"Hello\")"
   ]
  },
  {
   "cell_type": "code",
   "execution_count": 5,
   "metadata": {},
   "outputs": [],
   "source": [
    "my_second_list = my_list.reverse_half()"
   ]
  },
  {
   "cell_type": "code",
   "execution_count": 6,
   "metadata": {},
   "outputs": [
    {
     "data": {
      "text/plain": [
       "True"
      ]
     },
     "execution_count": 6,
     "metadata": {},
     "output_type": "execute_result"
    }
   ],
   "source": [
    "my_list.is_palindrome()"
   ]
  },
  {
   "cell_type": "code",
   "execution_count": null,
   "metadata": {},
   "outputs": [],
   "source": []
  }
 ],
 "metadata": {
  "kernelspec": {
   "display_name": "Python 3",
   "language": "python",
   "name": "python3"
  },
  "language_info": {
   "codemirror_mode": {
    "name": "ipython",
    "version": 3
   },
   "file_extension": ".py",
   "mimetype": "text/x-python",
   "name": "python",
   "nbconvert_exporter": "python",
   "pygments_lexer": "ipython3",
   "version": "3.7.4"
  }
 },
 "nbformat": 4,
 "nbformat_minor": 2
}
