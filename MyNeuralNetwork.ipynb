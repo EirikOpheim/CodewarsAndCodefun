{
 "cells": [
  {
   "cell_type": "markdown",
   "metadata": {},
   "source": [
    "Following youtube tutorials @ https://www.youtube.com/watch?v=kft1AJ9WVDk and https://www.youtube.com/watch?v=Py4xvZx-A1E&list=PLWzCU8DMCDKu9a-1nBS9sVZJgGTX0ymZu&index=3"
   ]
  },
  {
   "cell_type": "code",
   "execution_count": 1,
   "metadata": {},
   "outputs": [],
   "source": [
    "import numpy as np"
   ]
  },
  {
   "cell_type": "code",
   "execution_count": 10,
   "metadata": {},
   "outputs": [],
   "source": [
    "\"\"\"\n",
    "Neural network class used to compute the outcome of a case given three boolean values. \n",
    "\"\"\"\n",
    "\n",
    "\n",
    "class NeuralNetwork():\n",
    "    \n",
    "    def __init__(self):\n",
    "        \"\"\"\n",
    "        Initialize function and set random synaptic weights.\n",
    "        \"\"\"\n",
    "        np.random.seed(1)\n",
    "        self.synaptic_weights = 2*np.random.random((3,1)) - 1\n",
    "        \n",
    "    def sigmoid(self, x):\n",
    "        \"\"\"\n",
    "        Function used to determine output based on dot product between input array and NN weights.\n",
    "        \"\"\"\n",
    "        return 1/(1+np.exp(-x))\n",
    "    \n",
    "    def sigmoid_derivative(self, x):\n",
    "        \"\"\"\n",
    "        Function used to compute new NN weights.\n",
    "        \"\"\"\n",
    "        return self.sigmoid(x) * (1 - self.sigmoid(-x))\n",
    "    \n",
    "    def train(self, training_inputs, training_outputs, iterations):\n",
    "        \"\"\"\n",
    "        Train network, that is, change the synaptic weights to fit a set of training outputs\n",
    "        \"\"\"\n",
    "        for iteration in range(iterations):\n",
    "            outputs = self.think(training_inputs)\n",
    "            error = training_outputs - outputs\n",
    "            adjustments = error * self.sigmoid_derivative(error)\n",
    "            self.synaptic_weights += np.dot(training_inputs.T, adjustments)\n",
    "            \n",
    "    def think(self, training_inputs):\n",
    "        \"\"\"\n",
    "        Compute output of a single output with the current weight\n",
    "        \"\"\"\n",
    "        training_inputs = training_inputs.astype(float)\n",
    "        return self.sigmoid(np.dot(training_inputs, self.synaptic_weights))\n",
    "            \n"
   ]
  },
  {
   "cell_type": "code",
   "execution_count": 12,
   "metadata": {},
   "outputs": [
    {
     "name": "stdout",
     "output_type": "stream",
     "text": [
      "Random synaptic weights: \n",
      "[[-0.16595599]\n",
      " [ 0.44064899]\n",
      " [-0.99977125]]\n",
      "Synaptic weights after training: \n",
      "[[16.664868  ]\n",
      " [-0.40670232]\n",
      " [-7.92588568]]\n",
      "Input 1: 0\n",
      "Input 2: 1\n",
      "Input 3: 1\n",
      "New situation input data =  0 1 1\n",
      "Output data: \n",
      "[0.00024049]\n"
     ]
    }
   ],
   "source": [
    "#Small example usage program\n",
    "neural_network = NeuralNetwork()\n",
    "    \n",
    "print(\"Random synaptic weights: \")\n",
    "print(neural_network.synaptic_weights)\n",
    "    \n",
    "training_inputs = np.array([[0,0,1],\n",
    "                            [1,1,1],\n",
    "                            [1,0,1],\n",
    "                            [0,1,1]\n",
    "                            ])\n",
    "    \n",
    "training_outputs = np.array([[0,1,1,0]]).T\n",
    "    \n",
    "iterations = 20000\n",
    "    \n",
    "neural_network.train(training_inputs, training_outputs, iterations)\n",
    "    \n",
    "print(\"Synaptic weights after training: \")\n",
    "print(neural_network.synaptic_weights)\n",
    "    \n",
    "A = str(input(\"Input 1: \"))\n",
    "B = str(input(\"Input 2: \"))\n",
    "C = str(input(\"Input 3: \"))\n",
    "    \n",
    "print(\"New situation input data = \",A,B,C)\n",
    "print(\"Output data: \")\n",
    "print(neural_network.think(np.array([A,B,C])))"
   ]
  },
  {
   "cell_type": "code",
   "execution_count": null,
   "metadata": {},
   "outputs": [],
   "source": []
  }
 ],
 "metadata": {
  "kernelspec": {
   "display_name": "Python 3",
   "language": "python",
   "name": "python3"
  },
  "language_info": {
   "codemirror_mode": {
    "name": "ipython",
    "version": 3
   },
   "file_extension": ".py",
   "mimetype": "text/x-python",
   "name": "python",
   "nbconvert_exporter": "python",
   "pygments_lexer": "ipython3",
   "version": "3.7.4"
  }
 },
 "nbformat": 4,
 "nbformat_minor": 2
}
